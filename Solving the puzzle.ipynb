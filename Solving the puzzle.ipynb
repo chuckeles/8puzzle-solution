{
 "cells": [
  {
   "cell_type": "markdown",
   "metadata": {},
   "source": [
    "## The task\n",
    "\n",
    "The goal of this assignment is to solve the 8 Puzzle. There is a 3x3 board with 8 blocks with numbers and one empty space. Blocks can be moved in any direction if there is a space. The goal is to get from a starting layout of blocks to an ending layout of blocks.\n",
    "\n",
    "My name is *Martin Jakubík* and I have the *assignment D*."
   ]
  },
  {
   "cell_type": "code",
   "execution_count": 1,
   "metadata": {
    "collapsed": true
   },
   "outputs": [],
   "source": [
    "import math"
   ]
  },
  {
   "cell_type": "markdown",
   "metadata": {},
   "source": [
    "## States\n",
    "\n",
    "A state of the board will be represented as a tuple of numbers, where 0 represents the space. A state looks like this:"
   ]
  },
  {
   "cell_type": "code",
   "execution_count": 2,
   "metadata": {
    "collapsed": true
   },
   "outputs": [],
   "source": [
    "some_state = (1, 2, 3, 4, 0, 5, 6, 7, 8)"
   ]
  },
  {
   "cell_type": "markdown",
   "metadata": {},
   "source": [
    "## Generating new states\n",
    "\n",
    "New states are generated using operators - up, right, down, left. These operators take in a state and return a new state.\n",
    "\n",
    "Let's define a generic function for an operator. This function takes in a state and a tuple indicating a movement in some direction, such as (1, 0)."
   ]
  },
  {
   "cell_type": "code",
   "execution_count": 3,
   "metadata": {
    "collapsed": true
   },
   "outputs": [],
   "source": [
    "def operator(state, direction):\n",
    "    new_state = list(state)\n",
    "    \n",
    "    # find the space\n",
    "    i = state.index(0)\n",
    "    x = i % 3\n",
    "    y = math.floor(i / 3)\n",
    "    \n",
    "    # get the block that will be moved\n",
    "    x2 = x - direction[0]\n",
    "    y2 = y - direction[1]\n",
    "    i2 = y2 * 3 + x2\n",
    "    \n",
    "    # check if it is a valid move, if not, return None\n",
    "    if x2 < 0 or x2 > 2 or y2 < 0 or y2 > 2:\n",
    "        return None\n",
    "    \n",
    "    # swap the space and the block and return the new state\n",
    "    new_state[i], new_state[i2] = new_state[i2], new_state[i]\n",
    "    return tuple(new_state)"
   ]
  },
  {
   "cell_type": "markdown",
   "metadata": {},
   "source": [
    "For convenience, let's also define a helper function for printing a state."
   ]
  },
  {
   "cell_type": "code",
   "execution_count": 4,
   "metadata": {
    "collapsed": true
   },
   "outputs": [],
   "source": [
    "def print_state(state):\n",
    "    for y in range(3):\n",
    "        for x in range(3):\n",
    "            i = y * 3 + x\n",
    "            if state[i] > 0:\n",
    "                print(state[i], '', end='')\n",
    "            else:\n",
    "                print('  ', end='')\n",
    "        print()"
   ]
  },
  {
   "cell_type": "markdown",
   "metadata": {},
   "source": [
    "Now we have the generic operator function, let's make the specific functions for the 4 operators we will be using."
   ]
  },
  {
   "cell_type": "code",
   "execution_count": 5,
   "metadata": {
    "collapsed": true
   },
   "outputs": [],
   "source": [
    "def up(state):\n",
    "    return operator(state, (0, -1))\n",
    "def right(state):\n",
    "    return operator(state, (1, 0))\n",
    "def down(state):\n",
    "    return operator(state, (0, 1))\n",
    "def left(state):\n",
    "    return operator(state, (-1, 0))"
   ]
  },
  {
   "cell_type": "markdown",
   "metadata": {},
   "source": [
    "Test it to make sure the implementation is right."
   ]
  },
  {
   "cell_type": "code",
   "execution_count": 6,
   "metadata": {
    "collapsed": false
   },
   "outputs": [
    {
     "name": "stdout",
     "output_type": "stream",
     "text": [
      "1 2 3 \n",
      "4   5 \n",
      "6 7 8 \n"
     ]
    }
   ],
   "source": [
    "print_state(some_state)"
   ]
  },
  {
   "cell_type": "code",
   "execution_count": 7,
   "metadata": {
    "collapsed": false,
    "deletable": true,
    "editable": true
   },
   "outputs": [
    {
     "name": "stdout",
     "output_type": "stream",
     "text": [
      "1 2 3 \n",
      "4 7 5 \n",
      "6   8 \n"
     ]
    }
   ],
   "source": [
    "print_state(up(some_state))"
   ]
  },
  {
   "cell_type": "code",
   "execution_count": 8,
   "metadata": {
    "collapsed": false,
    "deletable": true,
    "editable": true
   },
   "outputs": [
    {
     "name": "stdout",
     "output_type": "stream",
     "text": [
      "1 2 3 \n",
      "  4 5 \n",
      "6 7 8 \n"
     ]
    }
   ],
   "source": [
    "print_state(right(some_state))"
   ]
  },
  {
   "cell_type": "code",
   "execution_count": 9,
   "metadata": {
    "collapsed": false,
    "deletable": true,
    "editable": true
   },
   "outputs": [
    {
     "name": "stdout",
     "output_type": "stream",
     "text": [
      "1   3 \n",
      "4 2 5 \n",
      "6 7 8 \n"
     ]
    }
   ],
   "source": [
    "print_state(down(some_state))"
   ]
  },
  {
   "cell_type": "code",
   "execution_count": 10,
   "metadata": {
    "collapsed": false
   },
   "outputs": [
    {
     "name": "stdout",
     "output_type": "stream",
     "text": [
      "1 2 3 \n",
      "4 5   \n",
      "6 7 8 \n"
     ]
    }
   ],
   "source": [
    "print_state(left(some_state))"
   ]
  },
  {
   "cell_type": "markdown",
   "metadata": {},
   "source": [
    "It works. It should also return None if the move is invalid."
   ]
  },
  {
   "cell_type": "code",
   "execution_count": 11,
   "metadata": {
    "collapsed": false
   },
   "outputs": [
    {
     "name": "stdout",
     "output_type": "stream",
     "text": [
      "None\n"
     ]
    }
   ],
   "source": [
    "print(right((0, 1, 2, 3, 4, 5, 6, 7, 8)))"
   ]
  },
  {
   "cell_type": "markdown",
   "metadata": {},
   "source": [
    "## Heuristic functions\n",
    "\n",
    "We will use 2 heuristic functions and compare their results. The first one determines how many blocks are not in their final place. The other counts the sum of difference between the current position and the final positions of each block."
   ]
  },
  {
   "cell_type": "code",
   "execution_count": 12,
   "metadata": {
    "collapsed": true
   },
   "outputs": [],
   "source": [
    "def heuristic_count(state, final_state, count_space=False):\n",
    "    count = 0\n",
    "    \n",
    "    for i in range(9):\n",
    "        if state[i] == 0 and not count_space:\n",
    "            # don't count the space if count_space == False\n",
    "            continue\n",
    "        \n",
    "        if state[i] != final_state[i]:\n",
    "            count += 1\n",
    "    \n",
    "    return count"
   ]
  },
  {
   "cell_type": "code",
   "execution_count": 13,
   "metadata": {
    "collapsed": true
   },
   "outputs": [],
   "source": [
    "def heuristic_sum(state, final_state, count_space=False):\n",
    "    sum = 0\n",
    "    \n",
    "    for i in range(9):\n",
    "        block = state[i]\n",
    "        if block == 0 and not count_space:\n",
    "            # don't count the space if count_space == False\n",
    "            continue\n",
    "        \n",
    "        x = i % 3\n",
    "        y = math.floor(i / 3)\n",
    "        \n",
    "        # find the block in the final state\n",
    "        i2 = final_state.index(block)\n",
    "        x2 = i2 % 3\n",
    "        y2 = math.floor(i2 / 3)\n",
    "        \n",
    "        # count the difference in the positions and\n",
    "        # add it to the sum\n",
    "        sum += abs(x - x2)\n",
    "        sum += abs(y - y2)\n",
    "        \n",
    "    return sum"
   ]
  },
  {
   "cell_type": "markdown",
   "metadata": {},
   "source": [
    "Now let's test these functions."
   ]
  },
  {
   "cell_type": "code",
   "execution_count": 14,
   "metadata": {
    "collapsed": true
   },
   "outputs": [],
   "source": [
    "some_state = (1, 2, 3, 6, 4, 5, 0, 8, 7)\n",
    "final_state = (1, 2, 3, 4, 5, 6, 7, 8, 0)"
   ]
  },
  {
   "cell_type": "code",
   "execution_count": 15,
   "metadata": {
    "collapsed": false
   },
   "outputs": [
    {
     "data": {
      "text/plain": [
       "4"
      ]
     },
     "execution_count": 15,
     "metadata": {},
     "output_type": "execute_result"
    }
   ],
   "source": [
    "heuristic_count(some_state, final_state)"
   ]
  },
  {
   "cell_type": "code",
   "execution_count": 16,
   "metadata": {
    "collapsed": false
   },
   "outputs": [
    {
     "data": {
      "text/plain": [
       "6"
      ]
     },
     "execution_count": 16,
     "metadata": {},
     "output_type": "execute_result"
    }
   ],
   "source": [
    "heuristic_sum(some_state, final_state)"
   ]
  },
  {
   "cell_type": "markdown",
   "metadata": {},
   "source": [
    "## Algorithm\n",
    "\n",
    "It's time to get to the algorithm. Here's how it will all work:\n",
    "\n",
    "1. Get as inputs the starting and the final state, as well as the used heuristic\n",
    "2. Put the starting state into a priority queue - priority is given by the heuristic\n",
    "3. Take the state with the lowest priority from the queue\n",
    "4. If this is the final state, we are done - return the moves (operators) that got us here\n",
    "5. Otherwise, generate all possible states we can get from this one, point them to this one, and insert the ones which weren't visited yet into the priority queue\n",
    "6. Jump to point 3\n",
    "\n",
    "We will use a priority queue for storing the states that are generated but have not been yet visited. We will also use a dictionary for storing the visited states."
   ]
  },
  {
   "cell_type": "code",
   "execution_count": 17,
   "metadata": {
    "collapsed": true
   },
   "outputs": [],
   "source": [
    "from queue import PriorityQueue"
   ]
  },
  {
   "cell_type": "markdown",
   "metadata": {},
   "source": [
    "Before we actually create the method that implements the algorithm mentioned above, let's do it interactively step by step. Start by defining the starting and the final states."
   ]
  },
  {
   "cell_type": "code",
   "execution_count": 18,
   "metadata": {
    "collapsed": true
   },
   "outputs": [],
   "source": [
    "start_state = (1, 2, 3, 4, 5, 6, 7, 8, 0)\n",
    "final_state = (1, 2, 3, 4, 6, 8, 7, 5, 0)"
   ]
  },
  {
   "cell_type": "markdown",
   "metadata": {},
   "source": [
    "The correct solution we should get to is right, down, left, up."
   ]
  },
  {
   "cell_type": "code",
   "execution_count": 19,
   "metadata": {
    "collapsed": false
   },
   "outputs": [
    {
     "name": "stdout",
     "output_type": "stream",
     "text": [
      "1 2 3 \n",
      "4 5 6 \n",
      "7 8   \n"
     ]
    }
   ],
   "source": [
    "print_state(start_state)"
   ]
  },
  {
   "cell_type": "code",
   "execution_count": 20,
   "metadata": {
    "collapsed": false
   },
   "outputs": [
    {
     "name": "stdout",
     "output_type": "stream",
     "text": [
      "1 2 3 \n",
      "4 6 8 \n",
      "7 5   \n"
     ]
    }
   ],
   "source": [
    "print_state(up(left(down(right(start_state)))))"
   ]
  },
  {
   "cell_type": "markdown",
   "metadata": {},
   "source": [
    "As mentioned, we will need a priority queue and a dictionary. The queue will store a tuple with the following attributes:\n",
    "\n",
    "- priority - determined by the heuristic function\n",
    "- state\n",
    "- list of moves how we got here\n",
    "\n",
    "The dictionary will just store the states that have been already generated."
   ]
  },
  {
   "cell_type": "code",
   "execution_count": 21,
   "metadata": {
    "collapsed": true
   },
   "outputs": [],
   "source": [
    "generated = PriorityQueue()\n",
    "visited = {}"
   ]
  },
  {
   "cell_type": "markdown",
   "metadata": {},
   "source": [
    "First, put the starting state into the dictionary. Then, generate all possible states from the starting one."
   ]
  },
  {
   "cell_type": "code",
   "execution_count": 22,
   "metadata": {
    "collapsed": true
   },
   "outputs": [],
   "source": [
    "visited[start_state] = True"
   ]
  },
  {
   "cell_type": "code",
   "execution_count": 23,
   "metadata": {
    "collapsed": true
   },
   "outputs": [],
   "source": [
    "for op in [up, right, down, left]:\n",
    "    new_state = op(start_state)\n",
    "    \n",
    "    # check if the state is valid and it has not been visited\n",
    "    if new_state == None or new_state in visited:\n",
    "        continue\n",
    "        \n",
    "    # store states as visited and add them to the queue\n",
    "    visited[new_state] = True\n",
    "    priority = heuristic_count(new_state, final_state)\n",
    "    generated.put((priority, new_state, [op]))"
   ]
  },
  {
   "cell_type": "markdown",
   "metadata": {},
   "source": [
    "Now the queue contains the generated states."
   ]
  },
  {
   "cell_type": "code",
   "execution_count": 24,
   "metadata": {
    "collapsed": false
   },
   "outputs": [
    {
     "data": {
      "text/plain": [
       "2"
      ]
     },
     "execution_count": 24,
     "metadata": {},
     "output_type": "execute_result"
    }
   ],
   "source": [
    "generated.qsize()"
   ]
  },
  {
   "cell_type": "markdown",
   "metadata": {},
   "source": [
    "There are exactly 2 states, because only 2 operators are valid from the starting position - down and right."
   ]
  },
  {
   "cell_type": "code",
   "execution_count": 25,
   "metadata": {
    "collapsed": false
   },
   "outputs": [
    {
     "data": {
      "text/plain": [
       "3"
      ]
     },
     "execution_count": 25,
     "metadata": {},
     "output_type": "execute_result"
    }
   ],
   "source": [
    "len(visited)"
   ]
  },
  {
   "cell_type": "markdown",
   "metadata": {},
   "source": [
    "The dictionary also stores 3 states that have been generated, including the starting state. It's name `visited` is actually not correct, the states have just been generated and not visited yet.\n",
    "\n",
    "Let's take a look into the states we get from the queue."
   ]
  },
  {
   "cell_type": "code",
   "execution_count": 26,
   "metadata": {
    "collapsed": false
   },
   "outputs": [
    {
     "data": {
      "text/plain": [
       "(3, (1, 2, 3, 4, 5, 0, 7, 8, 6), [<function __main__.down>])"
      ]
     },
     "execution_count": 26,
     "metadata": {},
     "output_type": "execute_result"
    }
   ],
   "source": [
    "generated.get()"
   ]
  },
  {
   "cell_type": "code",
   "execution_count": 27,
   "metadata": {
    "collapsed": false
   },
   "outputs": [
    {
     "data": {
      "text/plain": [
       "(3, (1, 2, 3, 4, 5, 6, 7, 0, 8), [<function __main__.right>])"
      ]
     },
     "execution_count": 27,
     "metadata": {},
     "output_type": "execute_result"
    }
   ],
   "source": [
    "state = generated.get()\n",
    "state"
   ]
  },
  {
   "cell_type": "code",
   "execution_count": 28,
   "metadata": {
    "collapsed": false
   },
   "outputs": [
    {
     "name": "stdout",
     "output_type": "stream",
     "text": [
      "1 2 3 \n",
      "4 5 6 \n",
      "7   8 \n"
     ]
    }
   ],
   "source": [
    "print_state(state[1])"
   ]
  },
  {
   "cell_type": "markdown",
   "metadata": {},
   "source": [
    "Both states have priority 3. Let's process the second one, just to see if everything works as expected."
   ]
  },
  {
   "cell_type": "code",
   "execution_count": 29,
   "metadata": {
    "collapsed": true,
    "deletable": true,
    "editable": true
   },
   "outputs": [],
   "source": [
    "for op in [up, right, down, left]:\n",
    "    new_state = op(state[1])\n",
    "    \n",
    "    # check if the state is valid and it has not been visited\n",
    "    if new_state == None or new_state in visited:\n",
    "        continue\n",
    "        \n",
    "    # store states as visited and add them to the queue\n",
    "    visited[new_state] = True\n",
    "    priority = heuristic_count(new_state, final_state)\n",
    "    generated.put((priority, new_state, state[2] + [op]))"
   ]
  },
  {
   "cell_type": "markdown",
   "metadata": {},
   "source": [
    "Now let's see what states we get from the queue."
   ]
  },
  {
   "cell_type": "code",
   "execution_count": 30,
   "metadata": {
    "collapsed": false
   },
   "outputs": [
    {
     "data": {
      "text/plain": [
       "2"
      ]
     },
     "execution_count": 30,
     "metadata": {},
     "output_type": "execute_result"
    }
   ],
   "source": [
    "generated.qsize()"
   ]
  },
  {
   "cell_type": "code",
   "execution_count": 31,
   "metadata": {
    "collapsed": false
   },
   "outputs": [
    {
     "data": {
      "text/plain": [
       "(2,\n",
       " (1, 2, 3, 4, 0, 6, 7, 5, 8),\n",
       " [<function __main__.right>, <function __main__.down>])"
      ]
     },
     "execution_count": 31,
     "metadata": {},
     "output_type": "execute_result"
    }
   ],
   "source": [
    "generated.get()"
   ]
  },
  {
   "cell_type": "code",
   "execution_count": 32,
   "metadata": {
    "collapsed": false
   },
   "outputs": [
    {
     "data": {
      "text/plain": [
       "(4,\n",
       " (1, 2, 3, 4, 5, 6, 0, 7, 8),\n",
       " [<function __main__.right>, <function __main__.right>])"
      ]
     },
     "execution_count": 32,
     "metadata": {},
     "output_type": "execute_result"
    }
   ],
   "source": [
    "generated.get()"
   ]
  },
  {
   "cell_type": "markdown",
   "metadata": {},
   "source": [
    "The algorithm so far generated the correct states and is moving towards the final state based on the heuristic. We can also check the dictionary."
   ]
  },
  {
   "cell_type": "code",
   "execution_count": 33,
   "metadata": {
    "collapsed": false
   },
   "outputs": [
    {
     "data": {
      "text/plain": [
       "{(1, 2, 3, 4, 0, 6, 7, 5, 8): True,\n",
       " (1, 2, 3, 4, 5, 0, 7, 8, 6): True,\n",
       " (1, 2, 3, 4, 5, 6, 0, 7, 8): True,\n",
       " (1, 2, 3, 4, 5, 6, 7, 0, 8): True,\n",
       " (1, 2, 3, 4, 5, 6, 7, 8, 0): True}"
      ]
     },
     "execution_count": 33,
     "metadata": {},
     "output_type": "execute_result"
    }
   ],
   "source": [
    "visited"
   ]
  },
  {
   "cell_type": "markdown",
   "metadata": {},
   "source": [
    "It contains all states that have been generated so far. We are ready.\n",
    "\n",
    "## Solution\n",
    "\n",
    "It's time to write a method that implements the algorithm."
   ]
  },
  {
   "cell_type": "code",
   "execution_count": 34,
   "metadata": {
    "collapsed": true
   },
   "outputs": [],
   "source": [
    "def solve(start_state, final_state, heuristic):\n",
    "    # create a queue and a dictionary\n",
    "    queue = PriorityQueue()\n",
    "    generated = {}\n",
    "    \n",
    "    # place the starting state into both\n",
    "    queue.put((0, start_state, []))\n",
    "    generated[start_state] = True\n",
    "    \n",
    "    # loop through the states until we either find the solution or run out of states\n",
    "    while queue.qsize() > 0:\n",
    "        state = queue.get()\n",
    "        \n",
    "        # if this is the final state, return the moves that got us here\n",
    "        if state[1] == final_state:\n",
    "            return state[2]\n",
    "        \n",
    "        # apply all operators\n",
    "        for op in [up, right, down, left]:\n",
    "            new_state = op(state[1])\n",
    "    \n",
    "            # check if the state is valid and it has not been visited\n",
    "            if new_state == None or new_state in generated:\n",
    "                continue\n",
    "\n",
    "            # store the state as generated and add it to the queue\n",
    "            generated[new_state] = True\n",
    "            priority = heuristic(new_state, final_state)\n",
    "            queue.put((priority, new_state, state[2] + [op]))\n",
    "        \n",
    "    # no solution found :(\n",
    "    return None"
   ]
  },
  {
   "cell_type": "markdown",
   "metadata": {},
   "source": [
    "The method uses the algorithm we described and tried out above. It first puts the starting state into the queue and the dictionary. Then it loops while there are more states in the queue, applying the operators and the heuristic function. If it finds the final state, it returns the moves, otherwise it returns `None`.\n",
    "\n",
    "For printing the moves, let's create another method that takes in the list of moves and prints a string of them."
   ]
  },
  {
   "cell_type": "code",
   "execution_count": 35,
   "metadata": {
    "collapsed": true
   },
   "outputs": [],
   "source": [
    "def print_moves(moves) :\n",
    "    for move in moves:\n",
    "        if move == up:\n",
    "            print('up ', end='')\n",
    "        elif move == right:\n",
    "            print('right ', end='')\n",
    "        elif move == down:\n",
    "            print('down ', end='')\n",
    "        elif move == left:\n",
    "            print('left ', end='')\n",
    "        \n",
    "    print()"
   ]
  },
  {
   "cell_type": "code",
   "execution_count": 36,
   "metadata": {
    "collapsed": false
   },
   "outputs": [
    {
     "name": "stdout",
     "output_type": "stream",
     "text": [
      "left right \n"
     ]
    }
   ],
   "source": [
    "print_moves([left, right])"
   ]
  },
  {
   "cell_type": "markdown",
   "metadata": {},
   "source": [
    "Let's test the solution method if it finds a correct solution to this problem."
   ]
  },
  {
   "cell_type": "code",
   "execution_count": 37,
   "metadata": {
    "collapsed": true,
    "deletable": true,
    "editable": true
   },
   "outputs": [],
   "source": [
    "start_state = (1, 2, 3, 4, 5, 6, 7, 8, 0)\n",
    "final_state = (1, 2, 3, 4, 6, 8, 7, 5, 0)"
   ]
  },
  {
   "cell_type": "code",
   "execution_count": 38,
   "metadata": {
    "collapsed": true
   },
   "outputs": [],
   "source": [
    "moves = solve(start_state, final_state, heuristic_count)"
   ]
  },
  {
   "cell_type": "markdown",
   "metadata": {},
   "source": [
    "Now print the moves."
   ]
  },
  {
   "cell_type": "code",
   "execution_count": 39,
   "metadata": {
    "collapsed": false
   },
   "outputs": [
    {
     "name": "stdout",
     "output_type": "stream",
     "text": [
      "right down left up \n"
     ]
    }
   ],
   "source": [
    "if moves:\n",
    "    print_moves(moves)\n",
    "else:\n",
    "    print('No solution found!')"
   ]
  },
  {
   "cell_type": "markdown",
   "metadata": {},
   "source": [
    "And that's correct!\n",
    "\n",
    "## Examples\n",
    "\n",
    "Here are more sample inputs and outputs for the algorithm. To make it easier to see the solutions, we will add one more method that combines `solve` and `print_moves`."
   ]
  },
  {
   "cell_type": "code",
   "execution_count": 40,
   "metadata": {
    "collapsed": true
   },
   "outputs": [],
   "source": [
    "def solve_print(start_state, final_state, heuristic):\n",
    "    moves = solve(start_state, final_state, heuristic)\n",
    "    if moves:\n",
    "        print_moves(moves)\n",
    "        print(len(moves), 'moves')\n",
    "    else:\n",
    "        print('No solution found!')"
   ]
  },
  {
   "cell_type": "markdown",
   "metadata": {},
   "source": [
    "#### Example 1"
   ]
  },
  {
   "cell_type": "code",
   "execution_count": 41,
   "metadata": {
    "collapsed": false
   },
   "outputs": [
    {
     "name": "stdout",
     "output_type": "stream",
     "text": [
      "  1 3 \n",
      "4 2 5 \n",
      "7 8 6 \n",
      "  ↓  \n",
      "1 2 3 \n",
      "4 5 6 \n",
      "7 8   \n"
     ]
    }
   ],
   "source": [
    "start1 = (0, 1, 3, 4, 2, 5, 7, 8, 6)\n",
    "end1 = (1, 2, 3, 4, 5, 6, 7, 8, 0)\n",
    "\n",
    "print_state(start1)\n",
    "print('  ↓  ')\n",
    "print_state(end1)"
   ]
  },
  {
   "cell_type": "markdown",
   "metadata": {},
   "source": [
    "We will use both heuristics and both of them counting and not counting space."
   ]
  },
  {
   "cell_type": "code",
   "execution_count": 42,
   "metadata": {
    "collapsed": true
   },
   "outputs": [],
   "source": [
    "from functools import partial"
   ]
  },
  {
   "cell_type": "code",
   "execution_count": 43,
   "metadata": {
    "collapsed": false
   },
   "outputs": [
    {
     "name": "stdout",
     "output_type": "stream",
     "text": [
      "left up left up \n",
      "4 moves\n",
      "left up left up \n",
      "4 moves\n",
      "left up left up \n",
      "4 moves\n",
      "left up left up \n",
      "4 moves\n",
      "CPU times: user 2.76 ms, sys: 1.93 ms, total: 4.7 ms\n",
      "Wall time: 3.29 ms\n"
     ]
    }
   ],
   "source": [
    "%%time\n",
    "solve_print(start1, end1, heuristic_count)\n",
    "solve_print(start1, end1, partial(heuristic_count, count_space=True))\n",
    "solve_print(start1, end1, heuristic_sum)\n",
    "solve_print(start1, end1, partial(heuristic_sum, count_space=True))"
   ]
  },
  {
   "cell_type": "markdown",
   "metadata": {},
   "source": [
    "This was a very easy example so all heuristics came up with the same solution. Also, no difference in performace can be seen because algorithms ran very fast.\n",
    "\n",
    "#### Example 2"
   ]
  },
  {
   "cell_type": "code",
   "execution_count": 44,
   "metadata": {
    "collapsed": false,
    "deletable": true,
    "editable": true
   },
   "outputs": [
    {
     "name": "stdout",
     "output_type": "stream",
     "text": [
      "3 6 4 \n",
      "  1 2 \n",
      "8 7 5 \n",
      "  ↓  \n",
      "1 2 3 \n",
      "8   4 \n",
      "7 6 5 \n"
     ]
    }
   ],
   "source": [
    "start2 = (3, 6, 4, 0, 1, 2, 8, 7, 5)\n",
    "end2 = (1, 2, 3, 8, 0, 4, 7, 6, 5)\n",
    "\n",
    "print_state(start2)\n",
    "print('  ↓  ')\n",
    "print_state(end2)"
   ]
  },
  {
   "cell_type": "code",
   "execution_count": 45,
   "metadata": {
    "collapsed": false,
    "deletable": true,
    "editable": true
   },
   "outputs": [
    {
     "name": "stdout",
     "output_type": "stream",
     "text": [
      "up left down down left up right down left up right up right down down left up right up left down left down right up left down right right up left left down right right up left down right up left down left up right up left down down right up up left down down right up left up right down down left up right up left down down right up \n",
      "71 moves\n",
      "CPU times: user 17.5 ms, sys: 3.19 ms, total: 20.7 ms\n",
      "Wall time: 19 ms\n"
     ]
    }
   ],
   "source": [
    "%%time\n",
    "solve_print(start2, end2, heuristic_count)"
   ]
  },
  {
   "cell_type": "code",
   "execution_count": 46,
   "metadata": {
    "collapsed": false
   },
   "outputs": [
    {
     "name": "stdout",
     "output_type": "stream",
     "text": [
      "up left down down left up right down left up right up right down down left up right up left down left down right up left down right right up left left down right right up left down right up left down left up right up left down down right up up left down down right up left up right down down left up right up left down down right up \n",
      "71 moves\n",
      "CPU times: user 17.3 ms, sys: 3.33 ms, total: 20.6 ms\n",
      "Wall time: 18.5 ms\n"
     ]
    }
   ],
   "source": [
    "%%time\n",
    "solve_print(start2, end2, partial(heuristic_count, count_space=True))"
   ]
  },
  {
   "cell_type": "code",
   "execution_count": 47,
   "metadata": {
    "collapsed": false
   },
   "outputs": [
    {
     "name": "stdout",
     "output_type": "stream",
     "text": [
      "left down right up up left down left down right up \n",
      "11 moves\n",
      "CPU times: user 1.5 ms, sys: 1.17 ms, total: 2.66 ms\n",
      "Wall time: 1.78 ms\n"
     ]
    }
   ],
   "source": [
    "%%time\n",
    "solve_print(start2, end2, heuristic_sum)"
   ]
  },
  {
   "cell_type": "code",
   "execution_count": 48,
   "metadata": {
    "collapsed": false
   },
   "outputs": [
    {
     "name": "stdout",
     "output_type": "stream",
     "text": [
      "left down right up left left down right up right up left down \n",
      "13 moves\n",
      "CPU times: user 2.31 ms, sys: 1.7 ms, total: 4.01 ms\n",
      "Wall time: 2.83 ms\n"
     ]
    }
   ],
   "source": [
    "%%time\n",
    "solve_print(start2, end2, partial(heuristic_sum, count_space=True))"
   ]
  },
  {
   "cell_type": "markdown",
   "metadata": {},
   "source": [
    "This example shows that the second heuristic performs better. Solutions using the first heuristic took way longer to finish and they found an unnecesserily long solution.\n",
    "\n",
    "We can also see that counting space made the solution worse and slower.\n",
    "\n",
    "#### Example 3"
   ]
  },
  {
   "cell_type": "code",
   "execution_count": 49,
   "metadata": {
    "collapsed": false,
    "deletable": true,
    "editable": true
   },
   "outputs": [
    {
     "name": "stdout",
     "output_type": "stream",
     "text": [
      "  1 2 \n",
      "3 4 5 \n",
      "6 7 8 \n",
      "  ↓  \n",
      "1 2 3 \n",
      "4 5 6 \n",
      "7 8   \n"
     ]
    }
   ],
   "source": [
    "start3 = (0, 1, 2, 3, 4, 5, 6, 7, 8)\n",
    "end3 = (1, 2, 3, 4, 5, 6, 7, 8, 0)\n",
    "\n",
    "print_state(start3)\n",
    "print('  ↓  ')\n",
    "print_state(end3)"
   ]
  },
  {
   "cell_type": "code",
   "execution_count": 50,
   "metadata": {
    "collapsed": false,
    "deletable": true,
    "editable": true
   },
   "outputs": [
    {
     "name": "stdout",
     "output_type": "stream",
     "text": [
      "left left up up right right down left up left down right up right down left up left down right right up left down left up right right down left left up right down left up right down right up left left down down right up up left down right down left up up right down left down right up up left down down right up left down right up left up \n",
      "72 moves\n",
      "CPU times: user 21.4 ms, sys: 4.18 ms, total: 25.5 ms\n",
      "Wall time: 23.3 ms\n"
     ]
    }
   ],
   "source": [
    "%%time\n",
    "solve_print(start3, end3, heuristic_count)"
   ]
  },
  {
   "cell_type": "code",
   "execution_count": 51,
   "metadata": {
    "collapsed": false,
    "deletable": true,
    "editable": true
   },
   "outputs": [
    {
     "name": "stdout",
     "output_type": "stream",
     "text": [
      "left left up up right right down left up left down right up right down left up left down right right up left down left up right right down left left up right down left up right down right up left left down down right up up left down right down left up up right down left down right up up left down down right up left down right up left up \n",
      "72 moves\n",
      "CPU times: user 24.7 ms, sys: 4.14 ms, total: 28.9 ms\n",
      "Wall time: 26.5 ms\n"
     ]
    }
   ],
   "source": [
    "%%time\n",
    "solve_print(start3, end3, partial(heuristic_count, count_space=True))"
   ]
  },
  {
   "cell_type": "code",
   "execution_count": 52,
   "metadata": {
    "collapsed": false,
    "deletable": true,
    "editable": true
   },
   "outputs": [
    {
     "name": "stdout",
     "output_type": "stream",
     "text": [
      "up up left left down right right down left left up right right up left left down right up right down down left left up right down right up left left up \n",
      "32 moves\n",
      "CPU times: user 18.5 ms, sys: 2.91 ms, total: 21.4 ms\n",
      "Wall time: 19.4 ms\n"
     ]
    }
   ],
   "source": [
    "%%time\n",
    "solve_print(start3, end3, heuristic_sum)"
   ]
  },
  {
   "cell_type": "code",
   "execution_count": 53,
   "metadata": {
    "collapsed": false,
    "deletable": true,
    "editable": true
   },
   "outputs": [
    {
     "name": "stdout",
     "output_type": "stream",
     "text": [
      "left left up right right up left left down right right up left left down right up right down left down left up right down left up up right down down left up right up left \n",
      "36 moves\n",
      "CPU times: user 4.48 ms, sys: 1.71 ms, total: 6.19 ms\n",
      "Wall time: 5.03 ms\n"
     ]
    }
   ],
   "source": [
    "%%time\n",
    "solve_print(start3, end3, partial(heuristic_sum, count_space=True))"
   ]
  },
  {
   "cell_type": "markdown",
   "metadata": {},
   "source": [
    "This is interesting. As before, the second heuristic is better. But we can see that counting the space found a solution faster, whereas not counting space found a solution with less moves."
   ]
  }
 ],
 "metadata": {
  "kernelspec": {
   "display_name": "Python 3",
   "language": "python",
   "name": "python3"
  },
  "language_info": {
   "codemirror_mode": {
    "name": "ipython",
    "version": 3
   },
   "file_extension": ".py",
   "mimetype": "text/x-python",
   "name": "python",
   "nbconvert_exporter": "python",
   "pygments_lexer": "ipython3",
   "version": "3.6.0"
  }
 },
 "nbformat": 4,
 "nbformat_minor": 2
}
